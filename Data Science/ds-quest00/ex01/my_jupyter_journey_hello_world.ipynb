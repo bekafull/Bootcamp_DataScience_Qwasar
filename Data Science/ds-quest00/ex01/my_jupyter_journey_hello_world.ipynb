{
 "cells": [
  {
   "cell_type": "code",
   "execution_count": 4,
   "id": "3a860d9c",
   "metadata": {},
   "outputs": [
    {
     "name": "stdout",
     "output_type": "stream",
     "text": [
      "Hello world!\n"
     ]
    }
   ],
   "source": [
    "print(\"Hello world!\")"
   ]
  },
  {
   "cell_type": "code",
   "execution_count": 5,
   "id": "3490603d",
   "metadata": {},
   "outputs": [
    {
     "name": "stdout",
     "output_type": "stream",
     "text": [
      "\n",
      "\u001b[94m\n",
      " ██████╗ ██╗    ██╗ █████╗ ███████╗ █████╗ ██████╗    ██╗ ██████╗ \n",
      "██╔═══██╗██║    ██║██╔══██╗██╔════╝██╔══██╗██╔══██╗   ██║██╔═══██╗\n",
      "██║   ██║██║ █╗ ██║███████║███████╗███████║██████╔╝   ██║██║   ██║\n",
      "██║▄▄ ██║██║███╗██║██╔══██║╚════██║██╔══██║██╔══██╗   ██║██║   ██║\n",
      "╚██████╔╝╚███╔███╔╝██║  ██║███████║██║  ██║██║  ██║██╗██║╚██████╔╝\n",
      " ╚══▀▀═╝  ╚══╝╚══╝ ╚═╝  ╚═╝╚══════╝╚═╝  ╚═╝╚═╝  ╚═╝╚═╝╚═╝ ╚═════╝ \n",
      "\t\t\t\t\t\t\t\t\t\t\t\t\t\t\t\t\t\t\t\t\t\t\t\t\t\t\t\t\t\t\t\t \u001b[0m\n",
      "Booting Gandalf v3.2.1-c2fe00c (production)\n",
      "Loading parameters:  \u001b[32mOK\u001b[0m\n",
      "User saydulla_b connection: \u001b[32mOK\u001b[0m\n",
      "\n",
      "\n",
      "<MY_JUPYTER_JOURNEY_HELLO_WORLD>\n",
      "Directory ex01 exists: \u001b[32mOK\u001b[0m\n",
      "Pushing exercise: \u001b[32mOK\u001b[0m\n",
      "Printing your report:\n",
      "\n",
      " \u001b[97;1;40m     REPORT      \u001b[0m  \u001b[97mMY JUPYTER JOURNEY HELLO WORLD\u001b[0m \n",
      "\n",
      " Status             \u001b[92mSUCCESS\u001b[0m                        \n",
      " Execution Runtime  2.473751                       \n",
      " Score              [\u001b[32m=\u001b[0m\u001b[32m=\u001b[0m] 2/2                       \n",
      "\n",
      "\n",
      "Checks detail Report:\n",
      "\n",
      " \u001b[97;1;40m     TEST CASE 0     \u001b[0m  \u001b[92m                    SUCCESS                     \u001b[0m \n",
      "\n",
      " Input                                                                   \n",
      " Expected Output        \"my_jupyter_journey_first_notebook: file exists\" \n",
      " Expected Return Value                                                   \n",
      " Output                 \"my_jupyter_journey_first_notebook: file exists\" \n",
      " Return Value                                                            \n",
      "\n",
      "\n",
      " \u001b[97;1;40m     TEST CASE 1     \u001b[0m  \u001b[92m   SUCCESS    \u001b[0m \n",
      "\n",
      " Input                                 \n",
      " Expected Output        \"Hello world!\" \n",
      " Expected Return Value                 \n",
      " Output                 \"Hello world!\" \n",
      " Return Value                          \n",
      "\n",
      "</MY_JUPYTER_JOURNEY_HELLO_WORLD>\n"
     ]
    }
   ],
   "source": [
    "!gandalf"
   ]
  },
  {
   "cell_type": "code",
   "execution_count": null,
   "id": "805f1e25",
   "metadata": {},
   "outputs": [],
   "source": []
  }
 ],
 "metadata": {
  "kernelspec": {
   "display_name": "Python 3",
   "language": "python",
   "name": "python3"
  },
  "language_info": {
   "codemirror_mode": {
    "name": "ipython",
    "version": 3
   },
   "file_extension": ".py",
   "mimetype": "text/x-python",
   "name": "python",
   "nbconvert_exporter": "python",
   "pygments_lexer": "ipython3",
   "version": "3.6.7"
  }
 },
 "nbformat": 4,
 "nbformat_minor": 5
}
