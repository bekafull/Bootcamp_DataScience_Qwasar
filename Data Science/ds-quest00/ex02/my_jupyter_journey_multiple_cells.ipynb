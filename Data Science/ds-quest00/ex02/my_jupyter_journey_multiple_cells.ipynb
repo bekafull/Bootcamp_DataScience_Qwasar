{
 "cells": [
  {
   "cell_type": "code",
   "execution_count": 9,
   "id": "843f187f",
   "metadata": {},
   "outputs": [
    {
     "name": "stdout",
     "output_type": "stream",
     "text": [
      "Cell1\n"
     ]
    }
   ],
   "source": [
    "print(\"Cell1\")"
   ]
  },
  {
   "cell_type": "code",
   "execution_count": 10,
   "id": "0f90dda6",
   "metadata": {},
   "outputs": [
    {
     "name": "stdout",
     "output_type": "stream",
     "text": [
      "Cell2\n"
     ]
    }
   ],
   "source": [
    "print(\"Cell2\")"
   ]
  },
  {
   "cell_type": "code",
   "execution_count": 11,
   "id": "abff5f05",
   "metadata": {},
   "outputs": [
    {
     "name": "stdout",
     "output_type": "stream",
     "text": [
      "Cell3\n"
     ]
    }
   ],
   "source": [
    "print(\"Cell3\")"
   ]
  },
  {
   "cell_type": "code",
   "execution_count": 12,
   "id": "490f181f",
   "metadata": {},
   "outputs": [
    {
     "name": "stdout",
     "output_type": "stream",
     "text": [
      "\n",
      "\u001b[94m\n",
      " ██████╗ ██╗    ██╗ █████╗ ███████╗ █████╗ ██████╗    ██╗ ██████╗ \n",
      "██╔═══██╗██║    ██║██╔══██╗██╔════╝██╔══██╗██╔══██╗   ██║██╔═══██╗\n",
      "██║   ██║██║ █╗ ██║███████║███████╗███████║██████╔╝   ██║██║   ██║\n",
      "██║▄▄ ██║██║███╗██║██╔══██║╚════██║██╔══██║██╔══██╗   ██║██║   ██║\n",
      "╚██████╔╝╚███╔███╔╝██║  ██║███████║██║  ██║██║  ██║██╗██║╚██████╔╝\n",
      " ╚══▀▀═╝  ╚══╝╚══╝ ╚═╝  ╚═╝╚══════╝╚═╝  ╚═╝╚═╝  ╚═╝╚═╝╚═╝ ╚═════╝ \n",
      "\t\t\t\t\t\t\t\t\t\t\t\t\t\t\t\t\t\t\t\t\t\t\t\t\t\t\t\t\t\t\t\t \u001b[0m\n",
      "Booting Gandalf v3.2.1-c2fe00c (production)\n",
      "Loading parameters:  \u001b[32mOK\u001b[0m\n",
      "User saydulla_b connection: \u001b[32mOK\u001b[0m\n",
      "\n",
      "\n",
      "<MY_JUPYTER_JOURNEY_MULTIPLE_CELLS>\n",
      "Directory ex02 exists: \u001b[32mOK\u001b[0m\n",
      "Pushing exercise: \u001b[32mOK\u001b[0m\n",
      "Printing your report:\n",
      "\n",
      " \u001b[97;1;40m     REPORT      \u001b[0m  \u001b[97mMY JUPYTER JOURNEY MULTIPLE CELLS\u001b[0m \n",
      "\n",
      " Status             \u001b[92mSUCCESS\u001b[0m                           \n",
      " Execution Runtime  3.025204                          \n",
      " Score              [\u001b[32m=\u001b[0m\u001b[32m=\u001b[0m\u001b[32m=\u001b[0m] 3/3                         \n",
      "\n",
      "\n",
      "Checks detail Report:\n",
      "\n",
      " \u001b[97;1;40m     TEST CASE 0     \u001b[0m  \u001b[92m                    SUCCESS                     \u001b[0m \n",
      "\n",
      " Input                                                                   \n",
      " Expected Output        \"my_jupyter_journey_multiple_cells: file exists\" \n",
      " Expected Return Value                                                   \n",
      " Output                 \"my_jupyter_journey_multiple_cells: file exists\" \n",
      " Return Value                                                            \n",
      "\n",
      "\n",
      " \u001b[97;1;40m     TEST CASE 1     \u001b[0m  \u001b[92m             SUCCESS             \u001b[0m \n",
      "\n",
      " Input                                                    \n",
      " Expected Output        \"more than two cells are present\" \n",
      " Expected Return Value                                    \n",
      " Output                 \"more than two cells are present\" \n",
      " Return Value                                             \n",
      "\n",
      "\n",
      " \u001b[97;1;40m     TEST CASE 2     \u001b[0m  \u001b[92m        SUCCESS        \u001b[0m \n",
      "\n",
      " Input                                          \n",
      " Expected Output        \"Cell1\\nCell2\\nCell3\\n\" \n",
      " Expected Return Value                          \n",
      " Output                 \"Cell1\\nCell2\\nCell3\\n\" \n",
      " Return Value                                   \n",
      "\n",
      "</MY_JUPYTER_JOURNEY_MULTIPLE_CELLS>\n"
     ]
    }
   ],
   "source": [
    "!gandalf"
   ]
  },
  {
   "cell_type": "code",
   "execution_count": null,
   "id": "e3ac8d6a",
   "metadata": {},
   "outputs": [],
   "source": []
  }
 ],
 "metadata": {
  "kernelspec": {
   "display_name": "Python 3",
   "language": "python",
   "name": "python3"
  },
  "language_info": {
   "codemirror_mode": {
    "name": "ipython",
    "version": 3
   },
   "file_extension": ".py",
   "mimetype": "text/x-python",
   "name": "python",
   "nbconvert_exporter": "python",
   "pygments_lexer": "ipython3",
   "version": "3.6.7"
  }
 },
 "nbformat": 4,
 "nbformat_minor": 5
}
